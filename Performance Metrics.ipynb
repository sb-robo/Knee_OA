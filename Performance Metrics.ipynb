{
 "cells": [
  {
   "cell_type": "code",
   "execution_count": 1,
   "id": "faff200a",
   "metadata": {},
   "outputs": [],
   "source": [
    "import logging, os\n",
    "logging.disable(logging.WARNING)\n",
    "os.environ[\"TF_CPP_MIN_LOG_LEVEL\"] = \"3\""
   ]
  },
  {
   "cell_type": "code",
   "execution_count": 2,
   "id": "93282f45",
   "metadata": {},
   "outputs": [],
   "source": [
    "import warnings\n",
    "warnings.filterwarnings('ignore')"
   ]
  },
  {
   "cell_type": "code",
   "execution_count": 3,
   "id": "a02d3727",
   "metadata": {},
   "outputs": [],
   "source": [
    "import numpy as np\n",
    "import matplotlib.pyplot as plt\n",
    "import seaborn as sns\n",
    "import tensorflow as tf\n",
    "from tensorflow.keras.preprocessing import image\n",
    "import Model_Arch as arch\n",
    "from tqdm import tqdm\n",
    "from sklearn.metrics import confusion_matrix, ConfusionMatrixDisplay"
   ]
  },
  {
   "cell_type": "markdown",
   "id": "545af104",
   "metadata": {},
   "source": [
    "## Create Test Generator"
   ]
  },
  {
   "cell_type": "code",
   "execution_count": 4,
   "id": "820a49e4",
   "metadata": {},
   "outputs": [],
   "source": [
    "import os\n",
    "import pandas as pd"
   ]
  },
  {
   "cell_type": "code",
   "execution_count": 5,
   "id": "2dac31bb",
   "metadata": {},
   "outputs": [],
   "source": [
    "rootpath = './Dataset/test/'"
   ]
  },
  {
   "cell_type": "code",
   "execution_count": 6,
   "id": "814a95fa",
   "metadata": {},
   "outputs": [
    {
     "name": "stderr",
     "output_type": "stream",
     "text": [
      "100%|███████████████████████████████████████████████████████████████████████████████████| 5/5 [00:00<00:00, 103.67it/s]\n"
     ]
    }
   ],
   "source": [
    "image_path_list = []\n",
    "image_labels = []\n",
    "\n",
    "for label in tqdm(os.listdir(rootpath)):\n",
    "    for img in os.listdir(rootpath + label):\n",
    "        image_path = rootpath + label + '/' + img\n",
    "        image_path_list.append(image_path)\n",
    "        image_labels.append(int(label))\n",
    "        \n",
    "df_test = pd.DataFrame({\"filepath\" : image_path_list, \"label\": image_labels})\n",
    "df_test = df_test.sample(frac=1)"
   ]
  },
  {
   "cell_type": "code",
   "execution_count": 7,
   "id": "b1ba7212",
   "metadata": {},
   "outputs": [
    {
     "data": {
      "text/html": [
       "<div>\n",
       "<style scoped>\n",
       "    .dataframe tbody tr th:only-of-type {\n",
       "        vertical-align: middle;\n",
       "    }\n",
       "\n",
       "    .dataframe tbody tr th {\n",
       "        vertical-align: top;\n",
       "    }\n",
       "\n",
       "    .dataframe thead th {\n",
       "        text-align: right;\n",
       "    }\n",
       "</style>\n",
       "<table border=\"1\" class=\"dataframe\">\n",
       "  <thead>\n",
       "    <tr style=\"text-align: right;\">\n",
       "      <th></th>\n",
       "      <th>filepath</th>\n",
       "      <th>label</th>\n",
       "    </tr>\n",
       "  </thead>\n",
       "  <tbody>\n",
       "    <tr>\n",
       "      <th>99</th>\n",
       "      <td>./Dataset/test/0/Image_3509.jpg</td>\n",
       "      <td>0</td>\n",
       "    </tr>\n",
       "    <tr>\n",
       "      <th>297</th>\n",
       "      <td>./Dataset/test/0/Image_7737.jpg</td>\n",
       "      <td>0</td>\n",
       "    </tr>\n",
       "    <tr>\n",
       "      <th>380</th>\n",
       "      <td>./Dataset/test/1/Image_4388.jpg</td>\n",
       "      <td>1</td>\n",
       "    </tr>\n",
       "    <tr>\n",
       "      <th>691</th>\n",
       "      <td>./Dataset/test/3/Image_3775.jpg</td>\n",
       "      <td>3</td>\n",
       "    </tr>\n",
       "    <tr>\n",
       "      <th>477</th>\n",
       "      <td>./Dataset/test/2/Image_1965.jpg</td>\n",
       "      <td>2</td>\n",
       "    </tr>\n",
       "  </tbody>\n",
       "</table>\n",
       "</div>"
      ],
      "text/plain": [
       "                            filepath  label\n",
       "99   ./Dataset/test/0/Image_3509.jpg      0\n",
       "297  ./Dataset/test/0/Image_7737.jpg      0\n",
       "380  ./Dataset/test/1/Image_4388.jpg      1\n",
       "691  ./Dataset/test/3/Image_3775.jpg      3\n",
       "477  ./Dataset/test/2/Image_1965.jpg      2"
      ]
     },
     "execution_count": 7,
     "metadata": {},
     "output_type": "execute_result"
    }
   ],
   "source": [
    "df_test.head()"
   ]
  },
  {
   "cell_type": "code",
   "execution_count": 8,
   "id": "7f500b50",
   "metadata": {},
   "outputs": [
    {
     "name": "stdout",
     "output_type": "stream",
     "text": [
      "<class 'pandas.core.frame.DataFrame'>\n",
      "Int64Index: 783 entries, 99 to 509\n",
      "Data columns (total 2 columns):\n",
      " #   Column    Non-Null Count  Dtype \n",
      "---  ------    --------------  ----- \n",
      " 0   filepath  783 non-null    object\n",
      " 1   label     783 non-null    int64 \n",
      "dtypes: int64(1), object(1)\n",
      "memory usage: 18.4+ KB\n"
     ]
    }
   ],
   "source": [
    "df_test.info()"
   ]
  },
  {
   "cell_type": "code",
   "execution_count": 9,
   "id": "9266fdea",
   "metadata": {},
   "outputs": [],
   "source": [
    "class TestImageGenerator():\n",
    "\n",
    "    def __init__(self, target_size, batch_size, class_mode):\n",
    "        self.target_size = target_size\n",
    "        self.batch_size = batch_size\n",
    "        self.class_mode = class_mode\n",
    "        \n",
    "    def TestGenerator(self):\n",
    "        test_idg = image.ImageDataGenerator(\n",
    "            rescale = 1./255,\n",
    "        )\n",
    "\n",
    "        test_generator = test_idg.flow_from_dataframe(\n",
    "            dataframe = df_test,\n",
    "            directory = None,\n",
    "            x_col = \"filepath\",\n",
    "            y_col = \"label\",\n",
    "            target_size = self.target_size,\n",
    "            batch_size = self.batch_size,\n",
    "            class_mode = self.class_mode\n",
    "        )\n",
    "\n",
    "        return test_generator"
   ]
  },
  {
   "cell_type": "code",
   "execution_count": 10,
   "id": "388c8196",
   "metadata": {},
   "outputs": [
    {
     "name": "stdout",
     "output_type": "stream",
     "text": [
      "Found 783 validated image filenames.\n"
     ]
    }
   ],
   "source": [
    "testimgGenerator = TestImageGenerator((224,224),4,'raw')\n",
    "test_generator = testimgGenerator.TestGenerator()"
   ]
  },
  {
   "cell_type": "markdown",
   "id": "2b674ce5",
   "metadata": {},
   "source": [
    "## Test Model"
   ]
  },
  {
   "cell_type": "code",
   "execution_count": 11,
   "id": "27e1272f",
   "metadata": {},
   "outputs": [],
   "source": [
    "model_class = arch.BuildModel()\n",
    "OsteoArthNet = model_class.OsteoArthNet()"
   ]
  },
  {
   "cell_type": "code",
   "execution_count": 12,
   "id": "273d8da5",
   "metadata": {},
   "outputs": [
    {
     "data": {
      "text/plain": [
       "<tensorflow.python.training.tracking.util.CheckpointLoadStatus at 0x25051e72ac0>"
      ]
     },
     "execution_count": 12,
     "metadata": {},
     "output_type": "execute_result"
    }
   ],
   "source": [
    "OsteoArthNet.load_weights('./Model_Checkpoints/ostroarthnet/ostroarthnet.ckpt')"
   ]
  },
  {
   "cell_type": "code",
   "execution_count": 13,
   "id": "b4314268",
   "metadata": {},
   "outputs": [],
   "source": [
    "y_pred = OsteoArthNet.predict(test_generator)\n",
    "y_pred = np.argmax(y_pred, axis=1)"
   ]
  },
  {
   "cell_type": "code",
   "execution_count": 14,
   "id": "0329267c",
   "metadata": {},
   "outputs": [
    {
     "data": {
      "image/png": "[encoded data removed]",
      "text/plain": [
       "<Figure size 432x288 with 2 Axes>"
      ]
     },
     "metadata": {
      "needs_background": "light"
     },
     "output_type": "display_data"
    }
   ],
   "source": [
    "cm = confusion_matrix(df_test.label, y_pred, labels=[0, 1, 2, 3, 4])\n",
    "disp = ConfusionMatrixDisplay(confusion_matrix=cm,\n",
    "                              display_labels=[0, 1, 2, 3, 4])\n",
    "disp.plot()\n",
    "plt.show()"
   ]
  },
  {
   "cell_type": "code",
   "execution_count": 15,
   "id": "7195ab2f",
   "metadata": {},
   "outputs": [],
   "source": [
    "acc=sum((y_pred==df_test.label))/len(y_pred)"
   ]
  },
  {
   "cell_type": "code",
   "execution_count": 16,
   "id": "cfc9b44a",
   "metadata": {},
   "outputs": [
    {
     "data": {
      "text/plain": [
       "0.2784163473818646"
      ]
     },
     "execution_count": 16,
     "metadata": {},
     "output_type": "execute_result"
    }
   ],
   "source": [
    "acc"
   ]
  },
  {
   "cell_type": "code",
   "execution_count": null,
   "id": "ebfee0ed",
   "metadata": {},
   "outputs": [],
   "source": []
  },
  {
   "cell_type": "code",
   "execution_count": null,
   "id": "ca317d7f",
   "metadata": {},
   "outputs": [],
   "source": []
  }
 ],
 "metadata": {
  "kernelspec": {
   "display_name": "Python 3 (ipykernel)",
   "language": "python",
   "name": "python3"
  },
  "language_info": {
   "codemirror_mode": {
    "name": "ipython",
    "version": 3
   },
   "file_extension": ".py",
   "mimetype": "text/x-python",
   "name": "python",
   "nbconvert_exporter": "python",
   "pygments_lexer": "ipython3",
   "version": "3.9.7"
  }
 },
 "nbformat": 4,
 "nbformat_minor": 5
}
